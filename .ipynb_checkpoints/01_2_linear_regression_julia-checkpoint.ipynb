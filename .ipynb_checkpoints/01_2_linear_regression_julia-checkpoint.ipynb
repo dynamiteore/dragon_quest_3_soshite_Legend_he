{
 "cells": [
  {
   "cell_type": "code",
   "execution_count": 1,
   "metadata": {},
   "outputs": [],
   "source": [
    "using Plots\n",
    "using Pkg\n",
    "using NPZ\n",
    "using LinearAlgebra\n",
    "using BenchmarkTools"
   ]
  },
  {
   "cell_type": "code",
   "execution_count": 2,
   "metadata": {},
   "outputs": [
    {
     "data": {
      "text/plain": [
       ":OK"
      ]
     },
     "execution_count": 2,
     "metadata": {},
     "output_type": "execute_result"
    }
   ],
   "source": [
    "outfile = npzread(\"data_2.npz\")\n",
    "\n",
    "X0 = outfile[\"X0\"]\n",
    "X0_min = outfile[\"X0_min\"]\n",
    "X0_max = outfile[\"X0_max\"]\n",
    "X1 = outfile[\"X1\"]\n",
    "X1_min = outfile[\"X1_min\"]\n",
    "X1_max = outfile[\"X1_max\"]\n",
    "x_n = outfile[\"x_n\"]\n",
    "T = outfile[\"T\"]\n",
    ":OK"
   ]
  },
  {
   "cell_type": "code",
   "execution_count": 3,
   "metadata": {},
   "outputs": [
    {
     "data": {
      "text/plain": [
       "fit_line_D (generic function with 1 method)"
      ]
     },
     "execution_count": 3,
     "metadata": {},
     "output_type": "execute_result"
    }
   ],
   "source": [
    "function fit_line_D(x, t)\n",
    "    # Xの転置行列\n",
    "    #x_T = np.transpose(x)\n",
    "    # x_𝑇とxの内積\n",
    "    #a = x_T.dot(x)\n",
    "    a = x' * x\n",
    "    \n",
    "    # 逆行列\n",
    "    #b = np.linalg.inv(a)\n",
    "    b = inv(a)\n",
    "\n",
    "    # ↑とx_Tとの内積\n",
    "    #c = b.dot(x_T)\n",
    "    c = b * x'\n",
    "    \n",
    "    # ↑とtとの内積\n",
    "    # w = c.dot(t)\n",
    "    w = c * t\n",
    "    \n",
    "    return w\n",
    "end"
   ]
  },
  {
   "cell_type": "code",
   "execution_count": 7,
   "metadata": {},
   "outputs": [
    {
     "name": "stdout",
     "output_type": "stream",
     "text": [
      "  0.000040 seconds (7 allocations: 2.703 KiB)\n"
     ]
    },
    {
     "data": {
      "text/plain": [
       "3-element Vector{Float64}:\n",
       "  0.456065318230489\n",
       "  1.086404898373413\n",
       " 89.04744652297406"
      ]
     },
     "execution_count": 7,
     "metadata": {},
     "output_type": "execute_result"
    }
   ],
   "source": [
    "X2 =  ones(Int, size(X0)) \n",
    "Xn = [X0 X1 X2]\n",
    "@time W = fit_line_D(Xn, T)\n",
    "W"
   ]
  },
  {
   "cell_type": "markdown",
   "metadata": {},
   "source": [
    "numpyでの解析解 ： [ 0.45606532  1.0864049  89.04744652]\n"
   ]
  },
  {
   "cell_type": "code",
   "execution_count": 8,
   "metadata": {},
   "outputs": [
    {
     "data": {
      "text/plain": [
       "dmse_line2 (generic function with 1 method)"
      ]
     },
     "execution_count": 8,
     "metadata": {},
     "output_type": "execute_result"
    }
   ],
   "source": [
    "function dmse_line2(x0, x1, t, w)\n",
    "    # 𝑦=w0𝑥0 + w1𝑥1 + w2\n",
    "    #y = w[0] * x0 + w[1] * x1 + w[2] \n",
    "    y = w[1] .* x0 .+ w[2] .* x1 .+ w[3] \n",
    "    \n",
    "    #d_w0 = 2 * np.mean((y - t) * x0)  # w0で偏微分\n",
    "    #d_w1 = 2 * np.mean((y - t) * x1)  # w1で偏微分\n",
    "    #d_w2 = 2 * np.mean(y - t)         # w2で偏微分\n",
    "    d_w0 = 2 .* mean((y .- t) .* x0)  # w0で偏微分\n",
    "    d_w1 = 2 .* mean((y .- t) .* x1)  # w1で偏微分\n",
    "    d_w2 = 2 .* mean(y .- t)         # w2で偏微分\n",
    "    \n",
    "    return d_w0, d_w1, d_w2\n",
    "end\n"
   ]
  },
  {
   "cell_type": "code",
   "execution_count": 9,
   "metadata": {},
   "outputs": [
    {
     "data": {
      "text/plain": [
       "fit_line_num2 (generic function with 1 method)"
      ]
     },
     "execution_count": 9,
     "metadata": {},
     "output_type": "execute_result"
    }
   ],
   "source": [
    "function fit_line_num2(x0, x1, t)\n",
    "    w_init = [1.5, 1, 90]  # 初期値(適当)\n",
    "    \n",
    "    # 学習率  0.001 と 0.00001 にも変えてみて動きを確かめてみよう\n",
    "    alpha = 0.0001  \n",
    "    \n",
    "    tau_max = 100000    # ループ最大数\n",
    "    eps = 0.1    # ループ停止勾配閾値\n",
    "    \n",
    "    #w_hist = np.zeros([tau_max, 3])\n",
    "    w_hist = zeros(tau_max, 3)\n",
    "\n",
    "    #w_hist[0,:] = w_init\n",
    "    w_hist[1,:] = w_init\n",
    "\n",
    "    #for tau in range(1, tau_max):\n",
    "    tau2 = 1    # for文抜けた後もtauを使う　pythonとスコープが違う\n",
    "    dmse = 0    # 同上\n",
    "    for tau in range(1, tau_max)\n",
    "        tau2 = tau    # tau2更新\n",
    "        # 勾配を求める\n",
    "        #dmse = dmse_line2(x0, x1, T, w_hist[tau - 1])\n",
    "        dmse = dmse_line2(x0, x1, t, w_hist[tau, :])\n",
    "        # w0, w1, w2を少しずらす\n",
    "        #w_hist[tau, 0] = w_hist[tau - 1, 0] - alpha * dmse[0]\n",
    "        #w_hist[tau, 1] = w_hist[tau - 1, 1] - alpha * dmse[1]\n",
    "        #w_hist[tau, 2] = w_hist[tau - 1, 2] - alpha * dmse[2]\n",
    "        w_hist[tau + 1, 1] = w_hist[tau, 1] - alpha * dmse[1]\n",
    "        w_hist[tau + 1, 2] = w_hist[tau, 2] - alpha * dmse[2]\n",
    "        w_hist[tau + 1, 3] = w_hist[tau, 3] - alpha * dmse[3]\n",
    "        #print(\"##### w_hist[tau]: \", w_hist[tau])\n",
    "        # 終了判定\n",
    "        #if max(np.absolute(dmse)) < eps:\n",
    "        if maximum(abs.(dmse)) < eps\n",
    "            #print(\"np.absolute(dmse) \", np.absolute(dmse))\n",
    "            break\n",
    "        end\n",
    "    end\n",
    "    #w0 = w_hist[tau, 0]\n",
    "    #w1 = w_hist[tau, 1]\n",
    "    #w2 = w_hist[tau, 2]\n",
    "    #w_hist = w_hist[:tau, :]\n",
    "    w0 = w_hist[tau2 + 1, 1]\n",
    "    w1 = w_hist[tau2 + 1, 2]\n",
    "    w2 = w_hist[tau2 + 1, 3]\n",
    "    #println(\"tau2:\", w_hist[tau2, :])\n",
    "    w_hist = w_hist[tau2, :] \n",
    "    return [ w0, w1, w2 ] , dmse, w_hist\n",
    "end\n",
    "        "
   ]
  },
  {
   "cell_type": "code",
   "execution_count": 382,
   "metadata": {},
   "outputs": [
    {
     "name": "stdout",
     "output_type": "stream",
     "text": [
      "  0.002911 seconds (6.55 k allocations: 3.466 MiB)\n"
     ]
    },
    {
     "data": {
      "text/plain": [
       "3-element Vector{Float64}:\n",
       "  0.4726079398178704\n",
       "  1.0658282776968346\n",
       " 90.01235305096417"
      ]
     },
     "execution_count": 382,
     "metadata": {},
     "output_type": "execute_result"
    }
   ],
   "source": [
    "@time W, dMSE, W_history = fit_line_num2(X0, X1, T)\n",
    "W"
   ]
  },
  {
   "cell_type": "markdown",
   "metadata": {},
   "source": [
    "numpy勾配法  \n",
    "Wall time: 151 ms  (0.151s)  \n",
    "勾配法： [0.47260793981787014, 1.0658282776968346, 90.01235305096417]  "
   ]
  }
 ],
 "metadata": {
  "kernelspec": {
   "display_name": "Julia 1.6.0",
   "language": "julia",
   "name": "julia-1.6"
  },
  "language_info": {
   "file_extension": ".jl",
   "mimetype": "application/julia",
   "name": "julia",
   "version": "1.6.0"
  }
 },
 "nbformat": 4,
 "nbformat_minor": 2
}
