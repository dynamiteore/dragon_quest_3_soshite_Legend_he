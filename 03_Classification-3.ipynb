{
 "cells": [
  {
   "cell_type": "markdown",
   "metadata": {},
   "source": [
    "# 2次元入力3クラス分類\n",
    "## ■3クラス分類ロジスティック回帰モデル  \n",
    "### 入力総和\n",
    "3つのクラスに対応する入力総和$a_k(k=0,1,2)$を考える  \n",
    "$$ a_k = w_{k0}x_0 + w_{k1}x_1 + w_{k2}　(k = 0, 1, 2) $$  \n",
    "常に１をとる三番目の値 $x_2 = 1$ 仮定し、以下の式になる  \n",
    "$$ a_k = w_{k0}x_0 + w_{k1}x_1 + w_{k2}x_2 = \\sum_{i=0}^{D}w_{ki}x_i　(k = 0, 1, 2) $$  \n",
    "  \n",
    "### ソフトマックス関数  \n",
    "上記入力総和をソフトマックス関数に入力。Kは分類クラス数（今回はK = 3）\n",
    "$$ u = exp(a_0) + exp(a_1) + exp(a_2) = \\sum_{k=0}^{K-1}exp(a_k) $$  \n",
    "$$ y_k = \\frac{exp(a_k)}{u} 　(k = 0, 1, 2)$$  \n",
    "モデルのパラメータは、 $w_{ki}(k=0,1,2, i=0,1,2)$  \n",
    "行列で表すと $ \\boldsymbol{W} = \n",
    "    \\begin{bmatrix}\n",
    "    w_{00} & w_{01} & w_{02} \\\\ \n",
    "    w_{10} & w_{11} & w_{12} \\\\\n",
    "    w_{20} & w_{21} & w_{22}\n",
    "    \\end{bmatrix} $  \n",
    "  \n",
    "### 出力  \n",
    "$y_0, y_1, y_2$は、各クラスに入力xが属する確率 $P(t=[1,0,0]^T|x)、P(t=[0,1,0]^T|x)、P(t=[0,0,1]^T|x)$  \n",
    "1-of-K符号化法のtは縦ベクトルで表す、全データを表すTはtの転置が縦に並んだもの  \n"
   ]
  },
  {
   "cell_type": "code",
   "execution_count": 1,
   "metadata": {},
   "outputs": [],
   "source": [
    "import numpy as np\n",
    "import matplotlib.pyplot as plt\n",
    "%matplotlib inline"
   ]
  },
  {
   "cell_type": "code",
   "execution_count": 2,
   "metadata": {},
   "outputs": [],
   "source": [
    "# データ生成\n",
    "np.random.seed(seed = 1)\n",
    "N = 100\n",
    "K = 3\n",
    "T3 = np.zeros((N,3), dtype=np.uint8)\n",
    "T2 = np.zeros((N,2), dtype=np.uint8)\n",
    "X = np.zeros((N,2))\n",
    "X_range0 = [-3, 3]\n",
    "X_range1 = [-3, 3]\n",
    "Mu = np.array([[-.5, -.5], [.5, 1.0], [1, -.5]]) # 分布の中心\n",
    "Sig = np.array([[.7, .7], [.8, .3], [.3, .8]])  # 分布の分散\n",
    "Pi = np.array([0.4, 0.8, 1])\n",
    "for n in range(N):\n",
    "    # wk:0～1 までの一様分布乱数\n",
    "    # クラス0　　wk < Pi[0]\n",
    "    # クラス1　　wk >= Pi[0] && wk < Pi[1]\n",
    "    # クラス2　　wk >= Pi[1] && wk < Pi[2]\n",
    "    wk = np.random.rand()\n",
    "    for k in range(K):\n",
    "        if wk < Pi[k]:\n",
    "            T3[n, k] = 1\n",
    "            break\n",
    "    for k in range(2):\n",
    "        X[n, k] = (np.random.randn() * Sig[T3[n, :] == 1, k] + Mu[T3[n, :] == 1, k])\n",
    "\n",
    "# 1-of-K符号化法ｓ\n",
    "T2[:, 0] = T3[:, 0]\n",
    "T2[:, 1] = T3[:, 1] | T3[:, 2]"
   ]
  },
  {
   "cell_type": "code",
   "execution_count": 63,
   "metadata": {},
   "outputs": [
    {
     "name": "stdout",
     "output_type": "stream",
     "text": [
      "[[0.    0.006 0.994]\n",
      " [0.965 0.033 0.001]\n",
      " [0.925 0.07  0.005]]\n"
     ]
    },
    {
     "data": {
      "text/plain": [
       "(3, 3)"
      ]
     },
     "execution_count": 63,
     "metadata": {},
     "output_type": "execute_result"
    }
   ],
   "source": [
    "# 3クラス用ロジスティック回帰モデル\n",
    "def logistic3(x0, x1, w):\n",
    "    K = 3\n",
    "    w = w.reshape((3,3))\n",
    "    n = len(x1)\n",
    "    y = np.zeros((n, K))\n",
    "    for k in range(K):\n",
    "        # 𝑎𝑘=𝑤𝑘0𝑥0 + 𝑤𝑘1𝑥1 + 𝑤𝑘2\n",
    "        y[:,k] = np.exp(w[k,0] * x0 + w[k,1] * x1 + w[k,2])\n",
    "        \n",
    "    # 𝑢=𝑒𝑥𝑝(𝑎0)+𝑒𝑥𝑝(𝑎1)+𝑒𝑥𝑝(𝑎2)\n",
    "    wk=np.sum(y, axis=1) # 行ごとにSUM\n",
    "    \n",
    "    # 𝑦𝑘=𝑒𝑥𝑝(𝑎𝑘)/𝑢\n",
    "    # yは3*3のベクトルに対して、wkは1次元配列なので行列の区別が無い、yのn行目全ての要素に対しwk[n]で割りたい場合は、\n",
    "    # 一旦yを転置してそのままwkで割ってから転置を戻す\n",
    "    wk = y.T / wk\n",
    "    y = wk.T\n",
    "    \n",
    "    return y\n",
    "\n",
    "W = np.array([1,2,3,4,5,6,7,8,9])\n",
    "y = logistic3(X[:3,0], X[:3,1], W)\n",
    "print(np.round(y, 3))\n"
   ]
  },
  {
   "cell_type": "markdown",
   "metadata": {},
   "source": [
    "## ■交差エントロピー誤差 3クラス分類\n",
    "1つの入力がクラス0$(t=[1,0,0]^T)$であったら、そのクラスが生成された確率は$P(t = [1,0,0]^T|x) = y_0)$  \n",
    "　　　　　 クラス1だったら、生成確率は$P(t = [0,1,0]^T|x) = y_1)$  \n",
    "       \n",
    "どのクラスでも同じ式で表すと $ P(t|x) = y_0^{t_0}y_1^{t_1}y_2^{t_2} $  \n",
    "　　　　　　　　例えばクラス1の場合 $P(t=[0,1,0]^T|x) = y_0^{0}y_1^{1}y_2^{0} = y_1$\n",
    "        \n",
    "全てのN個のデータが生成された確率、１つ１つの生成確率を全てかけ合わせる  \n",
    "$$ P(T|X) \n",
    "   = \\prod_{n=0}^{N-1}P(t_n|x_n) \n",
    "   = \\prod_{n=0}^{N-1}y_0^{t_0}y_1^{t_1}y_2^{t_2} \n",
    "   = \\prod_{n=0}^{N-1}\\prod_{k=0}^{K-1}y_{nk}^{t_{nk}} \n",
    "$$  \n",
    "  \n",
    "平均交差エントロピー誤差関数  \n",
    "$$\n",
    "  E(W) = -\\frac{1}{N} logP(T|X)\n",
    "       = -\\frac{1}{N} \\prod_{n=0}^{N-1}P(t_n|x_n) \n",
    "       = -\\frac{1}{N} \\sum_{n=0}^{N-1}  \\sum_{k=0}^{K-1}t_{nk}logy_{nk}\n",
    "$$"
   ]
  },
  {
   "cell_type": "code",
   "execution_count": 67,
   "metadata": {},
   "outputs": [
    {
     "data": {
      "text/plain": [
       "3.9824582404787288"
      ]
     },
     "execution_count": 67,
     "metadata": {},
     "output_type": "execute_result"
    }
   ],
   "source": [
    "# 交差エントロピー誤差\n",
    "def cee_logistic3(w, x, t):\n",
    "    # xの行数\n",
    "    X_n = x.shape[0]\n",
    "    # ロジスティック回帰モデルを通す\n",
    "    y = logistic3(x[:, 0], x[:, 1], w)\n",
    "    \n",
    "    # 平均交差エントロピー誤差算出\n",
    "    cee = 0\n",
    "    N, K = y.shape\n",
    "    for n in range(N):\n",
    "        for k in range(K):\n",
    "            cee = cee - (t[n, k] * np.log(y[n, k]))\n",
    "    cee = cee / X_n\n",
    "    \n",
    "    return cee\n",
    "\n",
    "# test\n",
    "W = np.array([1,2,3,4,5,6,7,8,9])\n",
    "cee_logistic3(W, X, T3)"
   ]
  },
  {
   "cell_type": "markdown",
   "metadata": {},
   "source": [
    "## ■勾配法による解\n",
    "$E(W)の各w_{ki}$に関する偏微分、途中式スキップして最終的にこうなる  \n",
    "$$ \\frac{∂w_{ki}}{∂E} = \\frac{1}{N} \\sum_{k=0}^{K-1} (y_{nk} - t_{nk}) x_{ni}$$  "
   ]
  },
  {
   "cell_type": "code",
   "execution_count": 68,
   "metadata": {},
   "outputs": [
    {
     "data": {
      "text/plain": [
       "array([ 0.03778433,  0.03708109, -0.1841851 , -0.21235188, -0.44408101,\n",
       "       -0.38340835,  0.17456754,  0.40699992,  0.56759346])"
      ]
     },
     "execution_count": 68,
     "metadata": {},
     "output_type": "execute_result"
    }
   ],
   "source": [
    "# 交差エントロピー誤差の微分\n",
    "def dcee_logistic3(w, x, t):\n",
    "    X_n = x.shape[0]\n",
    "    y = logistic3(x[:, 0], x[:, 1], w)\n",
    "    \n",
    "    dcee = np.zeros((3,3))  # クラス数K × xの次元D+1\n",
    "    N, K = y.shape\n",
    "    for n in range(N):\n",
    "        for k in range(K):\n",
    "            ## np.r_ : 配列同士の結合\n",
    "            ### a = np.array([1, 2, 3])\n",
    "            ### np.r_[a,1]\n",
    "            ### > array([1, 2, 3, 1])\n",
    "            ### \n",
    "            ###   np.r_[x[n, :], 1]  ← xに1次元追加 値1固定（D+1）\n",
    "            dcee[k, :] = dcee[k, :] - (t[n, k] - y[n, k]) * np.r_[x[n, :], 1]\n",
    "    dcee = dcee / X_n\n",
    "    return dcee.reshape(-1)\n",
    "\n",
    "# test\n",
    "W = np.array([1,2,3,4,5,6,7,8,9])\n",
    "dcee_logistic3(W, X, T3)"
   ]
  },
  {
   "cell_type": "code",
   "execution_count": 81,
   "metadata": {},
   "outputs": [],
   "source": [
    "from scipy.optimize import minimize\n",
    "\n",
    "# 最適値を見つける\n",
    "def fit_logistic3(w_init, x, t):\n",
    "    # CG:共役勾配法 (conjugate gradient method)\n",
    "    res = minimize(cee_logistic3, w_init, args=(x, t), jac=dcee_logistic3, method=\"CG\")\n",
    "\n",
    "    return res.x\n"
   ]
  },
  {
   "cell_type": "code",
   "execution_count": 77,
   "metadata": {},
   "outputs": [],
   "source": [
    "# モデル等高線2D表示\n",
    "def show_contour_logistic3(w):\n",
    "    xn = 30 # パラメータ分割数\n",
    "    x0 = np.linspace(X_range0[0], X_range0[1], xn)\n",
    "    x1 = np.linspace(X_range0[0], X_range0[1], xn)\n",
    "    xx0, xx1 = np.meshgrid(x0, x1)\n",
    "    \n",
    "    y = np.zeros((xn, xn, 3))\n",
    "    for i in range(xn):\n",
    "        wk = logistic3(xx0[:, i], xx1[:, i], w)\n",
    "        for j in range(3):\n",
    "            y[:, i, j] = wk[:, j]\n",
    "    \n",
    "    for j in range(3):\n",
    "        cont = plt.contour(xx0, xx1, y[:,:,j], levels=(0.5, 0.60.9), colors=['blue', 'k'])\n",
    "        cont.clabel(fmt='%.1f', fontsize=9)\n",
    "    \n",
    "    plt.grid(True)\n",
    "    "
   ]
  },
  {
   "cell_type": "code",
   "execution_count": 78,
   "metadata": {},
   "outputs": [],
   "source": [
    "# データ表示\n",
    "def show_data2(x, t):\n",
    "    wk, K = t.shape\n",
    "    c = [[.5,  .5, .5], [1, 1, 1], [0, 0, 0]]\n",
    "    for k in range(K):\n",
    "        plt.plot(x[t[:, k] == 1, 0], x[t[:, k] == 1, 1], ls = 'none', mec='black', marker='o', c=c[k], alpha=0.8)\n",
    "    plt.grid(True)"
   ]
  },
  {
   "cell_type": "code",
   "execution_count": 86,
   "metadata": {},
   "outputs": [
    {
     "name": "stdout",
     "output_type": "stream",
     "text": [
      "W = [[-3.2  -2.69  2.25]\n",
      " [-0.49  4.8  -0.69]\n",
      " [ 3.68 -2.11 -1.56]]\n",
      "CEE = 0.23\n"
     ]
    },
    {
     "data": {
      "image/png": "[encoded data removed]",
      "text/plain": [
       "<Figure size 216x216 with 1 Axes>"
      ]
     },
     "metadata": {
      "needs_background": "light"
     },
     "output_type": "display_data"
    }
   ],
   "source": [
    "# main \n",
    "\n",
    "# W初期値\n",
    "W_init = np.zeros((3,3))\n",
    "# W最適値を見つける\n",
    "W = fit_logistic3(W_init, X, T3)\n",
    "print(\"W =\", np.round(W.reshape((3,3)), 2))\n",
    "# W最適値の交差エントロピー誤差を求める\n",
    "cee = cee_logistic3(W, X, T3)\n",
    "print(\"CEE = {0:.2f}\".format(cee))\n",
    "\n",
    "plt.figure(figsize=(3,3))\n",
    "show_data2(X, T3)\n",
    "show_contour_logistic3(W)\n",
    "plt.show()"
   ]
  }
 ],
 "metadata": {
  "kernelspec": {
   "display_name": "Environment (conda_py382)",
   "language": "python",
   "name": "conda_py382"
  },
  "language_info": {
   "codemirror_mode": {
    "name": "ipython",
    "version": 3
   },
   "file_extension": ".py",
   "mimetype": "text/x-python",
   "name": "python",
   "nbconvert_exporter": "python",
   "pygments_lexer": "ipython3",
   "version": "3.8.2"
  }
 },
 "nbformat": 4,
 "nbformat_minor": 2
}
