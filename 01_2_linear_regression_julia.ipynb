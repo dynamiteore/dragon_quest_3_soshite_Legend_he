{
 "cells": [
  {
   "cell_type": "code",
   "execution_count": 24,
   "metadata": {},
   "outputs": [],
   "source": [
    "using Plots\n",
    "using Pkg\n",
    "using NPZ\n",
    "using LinearAlgebra\n",
    "using BenchmarkTools"
   ]
  },
  {
   "cell_type": "code",
   "execution_count": 25,
   "metadata": {},
   "outputs": [
    {
     "data": {
      "text/plain": [
       ":OK"
      ]
     },
     "execution_count": 25,
     "metadata": {},
     "output_type": "execute_result"
    }
   ],
   "source": [
    "outfile = npzread(\"data_2.npz\")\n",
    "\n",
    "X0 = outfile[\"X0\"]\n",
    "X0_min = outfile[\"X0_min\"]\n",
    "X0_max = outfile[\"X0_max\"]\n",
    "X1 = outfile[\"X1\"]\n",
    "X1_min = outfile[\"X1_min\"]\n",
    "X1_max = outfile[\"X1_max\"]\n",
    "x_n = outfile[\"x_n\"]\n",
    "T = outfile[\"T\"]\n",
    ":OK"
   ]
  },
  {
   "cell_type": "code",
   "execution_count": 26,
   "metadata": {},
   "outputs": [
    {
     "data": {
      "text/plain": [
       "16-element Vector{Float64}:\n",
       " 15.42555011756435\n",
       " 23.00811233605395\n",
       "  5.002859370433622\n",
       " 12.558314315795993\n",
       "  8.668897270427827\n",
       "  7.308464869219945\n",
       "  9.656505284441772\n",
       " 13.639018176076194\n",
       " 14.919186855766748\n",
       " 18.470418350083925\n",
       " 15.47986286008237\n",
       " 22.130487509918986\n",
       " 10.111306243287935\n",
       " 26.952935909773636\n",
       "  5.684689829948154\n",
       " 21.761687754460056"
      ]
     },
     "execution_count": 26,
     "metadata": {},
     "output_type": "execute_result"
    }
   ],
   "source": [
    "X0"
   ]
  },
  {
   "cell_type": "code",
   "execution_count": 27,
   "metadata": {},
   "outputs": [
    {
     "data": {
      "text/plain": [
       "fit_line_D (generic function with 1 method)"
      ]
     },
     "execution_count": 27,
     "metadata": {},
     "output_type": "execute_result"
    }
   ],
   "source": [
    "function fit_line_D(x, t)\n",
    "    # Xの転置行列\n",
    "    a = x' * x\n",
    "    # 逆行列\n",
    "    b = inv(a)\n",
    "    # ↑* x'\n",
    "    c = b * x'\n",
    "    # ↑* t\n",
    "    w = c * t\n",
    "    \n",
    "    return w\n",
    "end"
   ]
  },
  {
   "cell_type": "code",
   "execution_count": 40,
   "metadata": {},
   "outputs": [
    {
     "data": {
      "text/plain": [
       "fit_line_D3 (generic function with 1 method)"
      ]
     },
     "execution_count": 40,
     "metadata": {},
     "output_type": "execute_result"
    }
   ],
   "source": [
    "function fit_line_D2(X, T)\n",
    "    return (X'X)\\X'T\n",
    "end\n",
    "\n",
    "function fit_line_D3(X, t)\n",
    "    return X\\t\n",
    "end"
   ]
  },
  {
   "cell_type": "code",
   "execution_count": 41,
   "metadata": {},
   "outputs": [
    {
     "data": {
      "text/plain": [
       "9.424962344087533"
      ]
     },
     "execution_count": 41,
     "metadata": {},
     "output_type": "execute_result"
    }
   ],
   "source": [
    "X2 =  ones(Int, size(X0)) \n",
    "#Xn = [X0 X1 X2]\n",
    "Xn = [X0 X1]\n",
    "fit_line_D2(X0, T)"
   ]
  },
  {
   "cell_type": "code",
   "execution_count": 48,
   "metadata": {},
   "outputs": [
    {
     "data": {
      "text/plain": [
       "2-element Vector{Function}:\n",
       " one (generic function with 28 methods)\n",
       " identity (generic function with 1 method)"
      ]
     },
     "execution_count": 48,
     "metadata": {},
     "output_type": "execute_result"
    }
   ],
   "source": [
    "f"
   ]
  },
  {
   "cell_type": "code",
   "execution_count": 44,
   "metadata": {},
   "outputs": [
    {
     "data": {
      "text/plain": [
       "2-element Vector{Float64}:\n",
       " -0.8752054645527116\n",
       "  2.934901946563341"
      ]
     },
     "execution_count": 44,
     "metadata": {},
     "output_type": "execute_result"
    }
   ],
   "source": [
    "fit_line_D3(Xn, T)"
   ]
  },
  {
   "cell_type": "code",
   "execution_count": 49,
   "metadata": {},
   "outputs": [
    {
     "data": {
      "text/plain": [
       "9.424962344087536"
      ]
     },
     "execution_count": 49,
     "metadata": {},
     "output_type": "execute_result"
    }
   ],
   "source": [
    "f = [one, identity]\n",
    "W = fit_line_D2(Xn, T)\n",
    "norm2(x) = (x, x)\n",
    "T_ = Xn * W\n",
    "norm2(T - T_)\n",
    "X0\\T"
   ]
  },
  {
   "cell_type": "code",
   "execution_count": 50,
   "metadata": {},
   "outputs": [
    {
     "name": "stdout",
     "output_type": "stream",
     "text": [
      "  0.011116 seconds (3.76 k allocations: 201.384 KiB, 99.30% compilation time)\n",
      "fit_line_D :[0.456065318230489, 1.086404898373413, 89.04744652297406]\n",
      "  0.000038 seconds (5 allocations: 656 bytes)\n",
      "fit_line_D2:[0.4560653182304476, 1.0864048983734247, 89.04744652297302]\n"
     ]
    }
   ],
   "source": [
    "X2 =  ones(Int, size(X0)) \n",
    "Xn = [X0 X1 X2]\n",
    "@time W = fit_line_D(Xn, T)\n",
    "println(\"fit_line_D :\",W)\n",
    "@time W = fit_line_D2(Xn, T)\n",
    "println(\"fit_line_D2:\",W)"
   ]
  },
  {
   "cell_type": "markdown",
   "metadata": {},
   "source": [
    "numpyの場合  \n",
    "Wall time: 140 µs （0.000140）  \n",
    "解析解 ベクトル式： [ 0.45606532  1.0864049  89.04744652]  "
   ]
  },
  {
   "cell_type": "code",
   "execution_count": 51,
   "metadata": {},
   "outputs": [
    {
     "data": {
      "text/plain": [
       "dmse_line2 (generic function with 1 method)"
      ]
     },
     "execution_count": 51,
     "metadata": {},
     "output_type": "execute_result"
    }
   ],
   "source": [
    "function dmse_line2(x0, x1, t, w)\n",
    "    # 𝑦=w0𝑥0 + w1𝑥1 + w2\n",
    "    #y = w[0] * x0 + w[1] * x1 + w[2] \n",
    "    y = w[1] .* x0 .+ w[2] .* x1 .+ w[3] \n",
    "    \n",
    "    #d_w0 = 2 * np.mean((y - t) * x0)  # w0で偏微分\n",
    "    #d_w1 = 2 * np.mean((y - t) * x1)  # w1で偏微分\n",
    "    #d_w2 = 2 * np.mean(y - t)         # w2で偏微分\n",
    "    d_w0 = 2 .* mean((y .- t) .* x0)  # w0で偏微分\n",
    "    d_w1 = 2 .* mean((y .- t) .* x1)  # w1で偏微分\n",
    "    d_w2 = 2 .* mean(y .- t)         # w2で偏微分\n",
    "    \n",
    "    return d_w0, d_w1, d_w2\n",
    "end\n"
   ]
  },
  {
   "cell_type": "code",
   "execution_count": 94,
   "metadata": {},
   "outputs": [
    {
     "data": {
      "text/plain": [
       "fit_line_num2 (generic function with 1 method)"
      ]
     },
     "execution_count": 94,
     "metadata": {},
     "output_type": "execute_result"
    }
   ],
   "source": [
    "function fit_line_num2(x0, x1, t)\n",
    "    w_init = [1.5, 1, 90]  # 初期値(適当)\n",
    "    \n",
    "    # 学習率  0.001 と 0.00001 にも変えてみて動きを確かめてみよう\n",
    "    alpha = 0.0001\n",
    "    \n",
    "    tau_max = 100000    # ループ最大数\n",
    "    eps = 0.1    # ループ停止勾配閾値\n",
    "    \n",
    "    #w_hist = np.zeros([tau_max, 3])\n",
    "    w_hist = zeros(tau_max, 3)\n",
    "\n",
    "    #w_hist[0,:] = w_init\n",
    "    w_hist[1,:] = w_init\n",
    "\n",
    "    #for tau in range(1, tau_max):\n",
    "    tau2 = 1    # for文抜けた後もtauを使う　pythonとスコープが違う\n",
    "    dmse = 0    # 同上\n",
    "    #for tau in range(1, tau_max)\n",
    "    for tau in 1:tau_max\n",
    "        tau2 = tau    # tau2更新\n",
    "        # 勾配を求める\n",
    "        #dmse = dmse_line2(x0, x1, T, w_hist[tau - 1])\n",
    "        dmse = dmse_line2(x0, x1, t, w_hist[tau, :])\n",
    "        # w0, w1, w2を少しずらす\n",
    "        #w_hist[tau, 0] = w_hist[tau - 1, 0] - alpha * dmse[0]\n",
    "        #w_hist[tau, 1] = w_hist[tau - 1, 1] - alpha * dmse[1]\n",
    "        #w_hist[tau, 2] = w_hist[tau - 1, 2] - alpha * dmse[2]\n",
    "        w_hist[tau + 1, 1] = w_hist[tau, 1] - alpha * dmse[1]\n",
    "        w_hist[tau + 1, 2] = w_hist[tau, 2] - alpha * dmse[2]\n",
    "        w_hist[tau + 1, 3] = w_hist[tau, 3] - alpha * dmse[3]\n",
    "        #println(\"##### w_hist[tau]: \", w_hist[tau])\n",
    "        # 終了判定\n",
    "        #if max(np.absolute(dmse)) < eps:\n",
    "        if maximum(abs.(dmse)) < eps\n",
    "            #print(\"np.absolute(dmse) \", np.absolute(dmse))\n",
    "            break\n",
    "        end\n",
    "    end\n",
    "    #w0 = w_hist[tau, 0]\n",
    "    #w1 = w_hist[tau, 1]\n",
    "    #w2 = w_hist[tau, 2]\n",
    "    #w_hist = w_hist[:tau, :]\n",
    "    w0 = w_hist[tau2 + 1, 1]\n",
    "    w1 = w_hist[tau2 + 1, 2]\n",
    "    w2 = w_hist[tau2 + 1, 3]\n",
    "    #println(\"tau2:\", w_hist[tau2, :])\n",
    "    w_hist = w_hist[tau2, :] \n",
    "    return [ w0, w1, w2 ] , dmse, w_hist\n",
    "end\n",
    "        "
   ]
  },
  {
   "cell_type": "code",
   "execution_count": 84,
   "metadata": {},
   "outputs": [
    {
     "data": {
      "text/plain": [
       "1.1035078360322945"
      ]
     },
     "execution_count": 84,
     "metadata": {},
     "output_type": "execute_result"
    }
   ],
   "source": [
    "tau_max = 100000\n",
    "w_hist = zeros(tau_max, 3)\n",
    "w_init = [1.5, 1, 90]\n",
    "w_hist[1,:] = w_init\n",
    "w_hist\n",
    "\n",
    "alp = 0.001\n",
    "\n",
    "tau = 1\n",
    "tau2 = tau\n",
    "dmse = dmse_line2(X0, X1, T, w_hist[tau, :])\n",
    "w_hist[tau + 1, 1] = w_hist[tau, 1] - alp * dmse[1]\n"
   ]
  },
  {
   "cell_type": "code",
   "execution_count": 97,
   "metadata": {},
   "outputs": [
    {
     "name": "stdout",
     "output_type": "stream",
     "text": [
      "  0.002305 seconds (6.55 k allocations: 3.466 MiB)\n"
     ]
    },
    {
     "data": {
      "text/plain": [
       "3-element Vector{Float64}:\n",
       "  0.4726079398178704\n",
       "  1.0658282776968346\n",
       " 90.01235305096417"
      ]
     },
     "execution_count": 97,
     "metadata": {},
     "output_type": "execute_result"
    }
   ],
   "source": [
    "@time W, dMSE, W_history = fit_line_num2(X0, X1, T)\n",
    "W"
   ]
  },
  {
   "cell_type": "markdown",
   "metadata": {},
   "source": [
    "numpy  \n",
    "Wall time: 151 ms  (0.151s)  \n",
    "勾配法： [0.47260793981787014, 1.0658282776968346, 90.01235305096417]  "
   ]
  },
  {
   "cell_type": "code",
   "execution_count": 54,
   "metadata": {},
   "outputs": [
    {
     "name": "stdout",
     "output_type": "stream",
     "text": [
      "  0.021661 seconds (167 allocations: 10.453 KiB, 99.58% compilation time)\n"
     ]
    },
    {
     "data": {
      "text/plain": [
       "3-element Vector{Float64}:\n",
       "  0.4560653182304476\n",
       "  1.0864048983734247\n",
       " 89.04744652297302"
      ]
     },
     "execution_count": 54,
     "metadata": {},
     "output_type": "execute_result"
    }
   ],
   "source": [
    "@time (Xn'Xn)\\Xn'T"
   ]
  },
  {
   "cell_type": "code",
   "execution_count": 55,
   "metadata": {},
   "outputs": [
    {
     "data": {
      "text/plain": [
       "3×16 Matrix{Float64}:\n",
       " -0.019035   0.027616   0.004922  …   0.025287  -0.009459   0.018347\n",
       "  0.020278  -0.01435   -0.018998     -0.00613   -0.003791  -0.007079\n",
       " -0.833498   0.492496   1.08815       0.051596   0.417761   0.20649"
      ]
     },
     "execution_count": 55,
     "metadata": {},
     "output_type": "execute_result"
    }
   ],
   "source": [
    "AAA = round.( (Xn'Xn)\\Xn' , digits=6)"
   ]
  },
  {
   "cell_type": "code",
   "execution_count": 56,
   "metadata": {},
   "outputs": [
    {
     "data": {
      "text/plain": [
       "3×16 Matrix{Float64}:\n",
       " -0.019035   0.027616   0.004922  …   0.025287  -0.009459   0.018347\n",
       "  0.020278  -0.01435   -0.018998     -0.00613   -0.003791  -0.007079\n",
       " -0.833498   0.492496   1.08815       0.051596   0.417761   0.20649"
      ]
     },
     "execution_count": 56,
     "metadata": {},
     "output_type": "execute_result"
    }
   ],
   "source": [
    "BBB = round.( pinv(Xn) , digits=6) "
   ]
  },
  {
   "cell_type": "code",
   "execution_count": 57,
   "metadata": {},
   "outputs": [
    {
     "ename": "LoadError",
     "evalue": "MethodError: no method matching aaaaa(::Vector{Int64}, ::Vector{Float64}, ::Vector{Float64})\n\u001b[0mClosest candidates are:\n\u001b[0m  aaaaa(::Any, ::Any) at In[57]:1",
     "output_type": "error",
     "traceback": [
      "MethodError: no method matching aaaaa(::Vector{Int64}, ::Vector{Float64}, ::Vector{Float64})\n\u001b[0mClosest candidates are:\n\u001b[0m  aaaaa(::Any, ::Any) at In[57]:1",
      "",
      "Stacktrace:",
      " [1] top-level scope",
      "   @ In[57]:4",
      " [2] eval",
      "   @ ./boot.jl:360 [inlined]",
      " [3] include_string(mapexpr::typeof(REPL.softscope), mod::Module, code::String, filename::String)",
      "   @ Base ./loading.jl:1094"
     ]
    }
   ],
   "source": [
    "function aaaaa(x, w)\n",
    "    y = w[1] .* x[1] .+ w[2] .* x[2] .+ w[3]\n",
    "end\n",
    "aaaaa([20, 65, 1], T,  Xn\\T)"
   ]
  },
  {
   "cell_type": "code",
   "execution_count": 58,
   "metadata": {
    "scrolled": false
   },
   "outputs": [
    {
     "data": {
      "text/plain": [
       "16×3 Matrix{Float64}:\n",
       " 15.4256   70.4323  1.0\n",
       " 23.0081   58.1548  1.0\n",
       "  5.00286  37.2192  1.0\n",
       " 12.5583   56.5145  1.0\n",
       "  8.6689   57.3172  1.0\n",
       "  7.30846  40.8392  1.0\n",
       "  9.65651  57.7921  1.0\n",
       " 13.639    56.9384  1.0\n",
       " 14.9192   63.0313  1.0\n",
       " 18.4704   65.6942  1.0\n",
       " 15.4799   62.3298  1.0\n",
       " 22.1305   64.9451  1.0\n",
       " 10.1113   57.7298  1.0\n",
       " 26.9529   66.8939  1.0\n",
       "  5.68469  46.6784  1.0\n",
       " 21.7617   61.0832  1.0"
      ]
     },
     "execution_count": 58,
     "metadata": {},
     "output_type": "execute_result"
    }
   ],
   "source": [
    "Xn"
   ]
  }
 ],
 "metadata": {
  "kernelspec": {
   "display_name": "Julia 1.6.0",
   "language": "julia",
   "name": "julia-1.6"
  },
  "language_info": {
   "file_extension": ".jl",
   "mimetype": "application/julia",
   "name": "julia",
   "version": "1.6.0"
  }
 },
 "nbformat": 4,
 "nbformat_minor": 2
}
